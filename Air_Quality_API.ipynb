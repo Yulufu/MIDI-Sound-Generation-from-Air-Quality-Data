{
  "nbformat": 4,
  "nbformat_minor": 0,
  "metadata": {
    "colab": {
      "provenance": [],
      "authorship_tag": "ABX9TyOP4DHKaz6oFzyR2VlKpX4q",
      "include_colab_link": true
    },
    "kernelspec": {
      "name": "python3",
      "display_name": "Python 3"
    },
    "language_info": {
      "name": "python"
    }
  },
  "cells": [
    {
      "cell_type": "markdown",
      "metadata": {
        "id": "view-in-github",
        "colab_type": "text"
      },
      "source": [
        "<a href=\"https://colab.research.google.com/github/Yulufu/MIDI-Sound-Generation-from-Air-Quality-Data/blob/main/Air_Quality_API.ipynb\" target=\"_parent\"><img src=\"https://colab.research.google.com/assets/colab-badge.svg\" alt=\"Open In Colab\"/></a>"
      ]
    },
    {
      "cell_type": "code",
      "execution_count": null,
      "metadata": {
        "id": "EZi7DTVp2oWP",
        "colab": {
          "base_uri": "https://localhost:8080/"
        },
        "outputId": "709e288a-3c77-4d52-d6a4-6b1b95391456"
      },
      "outputs": [
        {
          "output_type": "stream",
          "name": "stdout",
          "text": [
            "Requirement already satisfied: requests in /usr/local/lib/python3.10/dist-packages (2.31.0)\n",
            "Collecting mido\n",
            "  Downloading mido-1.3.0-py3-none-any.whl (50 kB)\n",
            "\u001b[2K     \u001b[90m━━━━━━━━━━━━━━━━━━━━━━━━━━━━━━━━━━━━━━━━\u001b[0m \u001b[32m50.3/50.3 kB\u001b[0m \u001b[31m2.1 MB/s\u001b[0m eta \u001b[36m0:00:00\u001b[0m\n",
            "\u001b[?25hCollecting python-rtmidi\n",
            "  Downloading python_rtmidi-1.5.6-cp310-cp310-manylinux_2_28_x86_64.whl (765 kB)\n",
            "\u001b[2K     \u001b[90m━━━━━━━━━━━━━━━━━━━━━━━━━━━━━━━━━━━━━━━━\u001b[0m \u001b[32m765.0/765.0 kB\u001b[0m \u001b[31m19.8 MB/s\u001b[0m eta \u001b[36m0:00:00\u001b[0m\n",
            "\u001b[?25hRequirement already satisfied: charset-normalizer<4,>=2 in /usr/local/lib/python3.10/dist-packages (from requests) (3.3.0)\n",
            "Requirement already satisfied: idna<4,>=2.5 in /usr/local/lib/python3.10/dist-packages (from requests) (3.4)\n",
            "Requirement already satisfied: urllib3<3,>=1.21.1 in /usr/local/lib/python3.10/dist-packages (from requests) (2.0.7)\n",
            "Requirement already satisfied: certifi>=2017.4.17 in /usr/local/lib/python3.10/dist-packages (from requests) (2023.7.22)\n",
            "Requirement already satisfied: packaging~=23.1 in /usr/local/lib/python3.10/dist-packages (from mido) (23.2)\n",
            "Installing collected packages: python-rtmidi, mido\n",
            "Successfully installed mido-1.3.0 python-rtmidi-1.5.6\n"
          ]
        }
      ],
      "source": [
        "!pip install requests mido python-rtmidi"
      ]
    },
    {
      "cell_type": "code",
      "source": [
        "import requests\n",
        "\n",
        "def fetch_air_quality_data(latitude, longitude, api_token):\n",
        "    # Prepare the endpoint and parameters\n",
        "    endpoint = f\"https://api.waqi.info/feed/geo:{latitude};{longitude}/\"\n",
        "    params = {\n",
        "        \"token\": api_token\n",
        "    }\n",
        "\n",
        "    # Make the request\n",
        "    response = requests.get(endpoint, params=params)\n",
        "\n",
        "    # Check if the request was successful\n",
        "    if response.status_code == 200:\n",
        "        data = response.json()\n",
        "        return data\n",
        "    else:\n",
        "        return None  # or handle errors as appropriate\n",
        "\n",
        "# Replace with your actual values\n",
        "api_token = \"42ed33d5b7c9a020591a73b08b51a8a0d299ed6d\"\n",
        "latitude = 40.729513\n",
        "longitude = -73.997460 #NYU Steinhardt location\n",
        "\n",
        "# Fetch and print data\n",
        "air_quality_data = fetch_air_quality_data(latitude, longitude, api_token)\n",
        "print(air_quality_data)\n"
      ],
      "metadata": {
        "id": "51FSb1ho4InS",
        "colab": {
          "base_uri": "https://localhost:8080/"
        },
        "outputId": "7f795b86-bd63-420d-cd2c-aaea80c7203a"
      },
      "execution_count": null,
      "outputs": [
        {
          "output_type": "stream",
          "name": "stdout",
          "text": [
            "{'status': 'ok', 'data': {'aqi': 21, 'idx': 3307, 'attributions': [{'url': 'http://www.dec.ny.gov/', 'name': 'New York State Department of Environmental Conservation (NYSDEC)', 'logo': 'US-NYDEC.png'}, {'url': 'http://www.airnow.gov/', 'name': 'Air Now - US EPA'}, {'url': 'https://waqi.info/', 'name': 'World Air Quality Index Project'}], 'city': {'geo': [40.7143528, -74.0059731], 'name': 'New York, USA', 'url': 'https://aqicn.org/city/usa/newyork', 'location': ''}, 'dominentpol': 'o3', 'iaqi': {'co': {'v': 2.3}, 'h': {'v': 55}, 'no2': {'v': 4.9}, 'o3': {'v': 20.8}, 'p': {'v': 1004.4}, 'pm25': {'v': 12}, 't': {'v': 14.3}, 'w': {'v': 9.7}}, 'time': {'s': '2023-10-22 10:00:00', 'tz': '-04:00', 'v': 1697968800, 'iso': '2023-10-22T10:00:00-04:00'}, 'forecast': {'daily': {'o3': [{'avg': 15, 'day': '2023-10-20', 'max': 18, 'min': 10}, {'avg': 4, 'day': '2023-10-21', 'max': 11, 'min': 1}, {'avg': 10, 'day': '2023-10-22', 'max': 16, 'min': 6}, {'avg': 7, 'day': '2023-10-23', 'max': 15, 'min': 1}, {'avg': 7, 'day': '2023-10-24', 'max': 20, 'min': 1}, {'avg': 12, 'day': '2023-10-25', 'max': 23, 'min': 8}, {'avg': 6, 'day': '2023-10-26', 'max': 16, 'min': 2}], 'pm10': [{'avg': 7, 'day': '2023-10-20', 'max': 11, 'min': 4}, {'avg': 10, 'day': '2023-10-21', 'max': 25, 'min': 2}, {'avg': 3, 'day': '2023-10-22', 'max': 4, 'min': 2}, {'avg': 21, 'day': '2023-10-23', 'max': 68, 'min': 2}, {'avg': 40, 'day': '2023-10-24', 'max': 72, 'min': 15}, {'avg': 16, 'day': '2023-10-25', 'max': 21, 'min': 10}, {'avg': 22, 'day': '2023-10-26', 'max': 30, 'min': 13}], 'pm25': [{'avg': 19, 'day': '2023-10-20', 'max': 38, 'min': 10}, {'avg': 28, 'day': '2023-10-21', 'max': 71, 'min': 5}, {'avg': 6, 'day': '2023-10-22', 'max': 7, 'min': 3}, {'avg': 44, 'day': '2023-10-23', 'max': 151, 'min': 3}, {'avg': 96, 'day': '2023-10-24', 'max': 154, 'min': 50}, {'avg': 48, 'day': '2023-10-25', 'max': 65, 'min': 32}, {'avg': 62, 'day': '2023-10-26', 'max': 77, 'min': 38}], 'uvi': [{'avg': 0, 'day': '2020-03-10', 'max': 2, 'min': 0}, {'avg': 1, 'day': '2020-03-11', 'max': 3, 'min': 0}, {'avg': 0, 'day': '2020-03-12', 'max': 2, 'min': 0}, {'avg': 0, 'day': '2020-03-13', 'max': 3, 'min': 0}, {'avg': 1, 'day': '2020-03-14', 'max': 5, 'min': 0}, {'avg': 1, 'day': '2020-03-15', 'max': 5, 'min': 0}, {'avg': 1, 'day': '2020-03-16', 'max': 4, 'min': 0}]}}, 'debug': {'sync': '2023-10-23T00:36:38+09:00'}}}\n"
          ]
        }
      ]
    },
    {
      "cell_type": "code",
      "source": [
        "def parse_air_quality_data(data):\n",
        "    if data and data.get('status') == 'ok':\n",
        "        # Extracting the air quality index (AQI)\n",
        "        aqi = data['data']['aqi']\n",
        "\n",
        "        # Extracting individual pollutant data\n",
        "        iaqi = data['data']['iaqi']\n",
        "\n",
        "        # You can access individual pollutants depending on availability\n",
        "        pm25 = iaqi.get('pm25', {}).get('v')  # PM2.5 data\n",
        "        pm10 = iaqi.get('pm10', {}).get('v')  # PM10 data\n",
        "        co = iaqi.get('co', {}).get('v')  # Carbon Monoxide data\n",
        "        no2 = iaqi.get('no2', {}).get('v')  # Nitrogen Dioxide data\n",
        "        o3 = iaqi.get('o3', {}).get('v')  # Ozone data\n",
        "\n",
        "        # You can add more pollutants here\n",
        "\n",
        "        # Returning a dictionary with the parsed data\n",
        "        return {\n",
        "            'aqi': aqi,\n",
        "            'pm25': pm25,\n",
        "            'pm10': pm10,\n",
        "            'co': co,\n",
        "            'no2': no2,\n",
        "            'o3': o3\n",
        "            # Add more pollutants here\n",
        "        }\n",
        "    else:\n",
        "        print(\"Error: Unable to retrieve or parse data\")\n",
        "        return None\n",
        "\n",
        "# Assuming air_quality_data contains the response from the API\n",
        "parsed_data = parse_air_quality_data(air_quality_data)\n",
        "print(parsed_data)\n"
      ],
      "metadata": {
        "colab": {
          "base_uri": "https://localhost:8080/"
        },
        "id": "oW8Bq5LgWTpL",
        "outputId": "9f1d9ee1-02f5-4533-ea4e-61cc64849a9d"
      },
      "execution_count": null,
      "outputs": [
        {
          "output_type": "stream",
          "name": "stdout",
          "text": [
            "{'aqi': 21, 'pm25': 12, 'pm10': None, 'co': 2.3, 'no2': 4.9, 'o3': 20.8}\n"
          ]
        }
      ]
    },
    {
      "cell_type": "code",
      "source": [
        "import mido\n",
        "import time\n",
        "\n",
        "# Function to normalize data\n",
        "def normalize_data(value, min_value, max_value, min_midi, max_midi):\n",
        "    return ((value - min_value) / (max_value - min_value)) * (max_midi - min_midi) + min_midi"
      ],
      "metadata": {
        "id": "vwg_XNzWYnI7"
      },
      "execution_count": null,
      "outputs": []
    },
    {
      "cell_type": "code",
      "source": [
        "# Function to send MIDI messages\n",
        "def send_midi_control_change(control, value, midi_port):\n",
        "    # control is the control number (e.g., 1 for modulation wheel, 7 for volume, etc.)\n",
        "    # value is the control value (0-127)\n",
        "    msg = mido.Message('control_change', control=control, value=value)\n",
        "    midi_port.send(msg)\n"
      ],
      "metadata": {
        "id": "bHldPW-aYtyB"
      },
      "execution_count": null,
      "outputs": []
    },
    {
      "cell_type": "code",
      "source": [
        "# Create a virtual MIDI port\n",
        "with mido.open_output('MyVirtualMIDI', virtual=True) as outport:\n",
        "    # Assuming air_quality_data contains the response from the API\n",
        "    parsed_data = parse_air_quality_data(air_quality_data)\n",
        "\n",
        "    # Normalize the data to MIDI range (0-127)\n",
        "    # This is a simple example; you might need different ranges based on your data\n",
        "    pm25_midi = int(normalize_data(parsed_data['pm25'], 0, 500, 0, 127))\n",
        "    co_midi = int(normalize_data(parsed_data['co'], 0, 50, 0, 127))\n",
        "    no2_midi = int(normalize_data(parsed_data['no2'], 0, 200, 0, 127))\n",
        "    o3_midi = int(normalize_data(parsed_data['o3'], 0, 300, 0, 127))\n",
        "\n",
        "    # Send MIDI messages\n",
        "    send_midi_control_change(1, pm25_midi, outport)  # CC1 typically corresponds to modulation\n",
        "    send_midi_control_change(2, co_midi, outport)    # CC2 can be assigned to a different parameter\n",
        "    send_midi_control_change(3, no2_midi, outport)   # CC3 can be assigned to a different parameter\n",
        "    send_midi_control_change(4, o3_midi, outport)    # CC4 can be assigned to a different parameter\n",
        "\n",
        "    # Sleep for a bit to ensure messages are sent before closing the port\n",
        "    time.sleep(0.1)"
      ],
      "metadata": {
        "colab": {
          "base_uri": "https://localhost:8080/",
          "height": 547
        },
        "id": "OkSvQQwGY1cE",
        "outputId": "b8069339-9f7d-4859-c790-7fb050489e98"
      },
      "execution_count": null,
      "outputs": [
        {
          "output_type": "error",
          "ename": "SystemError",
          "evalue": "ignored",
          "traceback": [
            "\u001b[0;31m---------------------------------------------------------------------------\u001b[0m",
            "\u001b[0;31mRuntimeError\u001b[0m                              Traceback (most recent call last)",
            "\u001b[0;32m_rtmidi.pyx\u001b[0m in \u001b[0;36m_rtmidi.MidiOut.__cinit__\u001b[0;34m()\u001b[0m\n",
            "\u001b[0;31mRuntimeError\u001b[0m: MidiOutAlsa::initialize: error creating ALSA sequencer client object.",
            "\nDuring handling of the above exception, another exception occurred:\n",
            "\u001b[0;31mSystemError\u001b[0m                               Traceback (most recent call last)",
            "\u001b[0;32m<ipython-input-6-8e561e5bc8e7>\u001b[0m in \u001b[0;36m<cell line: 2>\u001b[0;34m()\u001b[0m\n\u001b[1;32m      1\u001b[0m \u001b[0;31m# Create a virtual MIDI port\u001b[0m\u001b[0;34m\u001b[0m\u001b[0;34m\u001b[0m\u001b[0m\n\u001b[0;32m----> 2\u001b[0;31m \u001b[0;32mwith\u001b[0m \u001b[0mmido\u001b[0m\u001b[0;34m.\u001b[0m\u001b[0mopen_output\u001b[0m\u001b[0;34m(\u001b[0m\u001b[0;34m'MyVirtualMIDI'\u001b[0m\u001b[0;34m,\u001b[0m \u001b[0mvirtual\u001b[0m\u001b[0;34m=\u001b[0m\u001b[0;32mTrue\u001b[0m\u001b[0;34m)\u001b[0m \u001b[0;32mas\u001b[0m \u001b[0moutport\u001b[0m\u001b[0;34m:\u001b[0m\u001b[0;34m\u001b[0m\u001b[0;34m\u001b[0m\u001b[0m\n\u001b[0m\u001b[1;32m      3\u001b[0m     \u001b[0;31m# Assuming air_quality_data contains the response from the API\u001b[0m\u001b[0;34m\u001b[0m\u001b[0;34m\u001b[0m\u001b[0m\n\u001b[1;32m      4\u001b[0m     \u001b[0mparsed_data\u001b[0m \u001b[0;34m=\u001b[0m \u001b[0mparse_air_quality_data\u001b[0m\u001b[0;34m(\u001b[0m\u001b[0mair_quality_data\u001b[0m\u001b[0;34m)\u001b[0m\u001b[0;34m\u001b[0m\u001b[0;34m\u001b[0m\u001b[0m\n\u001b[1;32m      5\u001b[0m \u001b[0;34m\u001b[0m\u001b[0m\n",
            "\u001b[0;32m/usr/local/lib/python3.10/dist-packages/mido/backends/backend.py\u001b[0m in \u001b[0;36mopen_output\u001b[0;34m(self, name, virtual, autoreset, **kwargs)\u001b[0m\n\u001b[1;32m    114\u001b[0m             \u001b[0mname\u001b[0m \u001b[0;34m=\u001b[0m \u001b[0mself\u001b[0m\u001b[0;34m.\u001b[0m\u001b[0m_env\u001b[0m\u001b[0;34m(\u001b[0m\u001b[0;34m'MIDO_DEFAULT_OUTPUT'\u001b[0m\u001b[0;34m)\u001b[0m\u001b[0;34m\u001b[0m\u001b[0;34m\u001b[0m\u001b[0m\n\u001b[1;32m    115\u001b[0m \u001b[0;34m\u001b[0m\u001b[0m\n\u001b[0;32m--> 116\u001b[0;31m         \u001b[0;32mreturn\u001b[0m \u001b[0mself\u001b[0m\u001b[0;34m.\u001b[0m\u001b[0mmodule\u001b[0m\u001b[0;34m.\u001b[0m\u001b[0mOutput\u001b[0m\u001b[0;34m(\u001b[0m\u001b[0mname\u001b[0m\u001b[0;34m,\u001b[0m \u001b[0;34m**\u001b[0m\u001b[0mself\u001b[0m\u001b[0;34m.\u001b[0m\u001b[0m_add_api\u001b[0m\u001b[0;34m(\u001b[0m\u001b[0mkwargs\u001b[0m\u001b[0;34m)\u001b[0m\u001b[0;34m)\u001b[0m\u001b[0;34m\u001b[0m\u001b[0;34m\u001b[0m\u001b[0m\n\u001b[0m\u001b[1;32m    117\u001b[0m \u001b[0;34m\u001b[0m\u001b[0m\n\u001b[1;32m    118\u001b[0m     def open_ioport(self, name=None, virtual=False,\n",
            "\u001b[0;32m/usr/local/lib/python3.10/dist-packages/mido/ports.py\u001b[0m in \u001b[0;36m__init__\u001b[0;34m(self, name, autoreset, **kwargs)\u001b[0m\n\u001b[1;32m    267\u001b[0m         \u001b[0mname\u001b[0m \u001b[0;32mis\u001b[0m \u001b[0;32mnot\u001b[0m \u001b[0mpassed\u001b[0m\u001b[0;34m,\u001b[0m \u001b[0mthe\u001b[0m \u001b[0mdefault\u001b[0m \u001b[0moutput\u001b[0m \u001b[0;32mis\u001b[0m \u001b[0mused\u001b[0m \u001b[0minstead\u001b[0m\u001b[0;34m.\u001b[0m\u001b[0;34m\u001b[0m\u001b[0;34m\u001b[0m\u001b[0m\n\u001b[1;32m    268\u001b[0m         \"\"\"\n\u001b[0;32m--> 269\u001b[0;31m         \u001b[0mBasePort\u001b[0m\u001b[0;34m.\u001b[0m\u001b[0m__init__\u001b[0m\u001b[0;34m(\u001b[0m\u001b[0mself\u001b[0m\u001b[0;34m,\u001b[0m \u001b[0mname\u001b[0m\u001b[0;34m,\u001b[0m \u001b[0;34m**\u001b[0m\u001b[0mkwargs\u001b[0m\u001b[0;34m)\u001b[0m\u001b[0;34m\u001b[0m\u001b[0;34m\u001b[0m\u001b[0m\n\u001b[0m\u001b[1;32m    270\u001b[0m         \u001b[0mself\u001b[0m\u001b[0;34m.\u001b[0m\u001b[0mautoreset\u001b[0m \u001b[0;34m=\u001b[0m \u001b[0mautoreset\u001b[0m\u001b[0;34m\u001b[0m\u001b[0;34m\u001b[0m\u001b[0m\n\u001b[1;32m    271\u001b[0m \u001b[0;34m\u001b[0m\u001b[0m\n",
            "\u001b[0;32m/usr/local/lib/python3.10/dist-packages/mido/ports.py\u001b[0m in \u001b[0;36m__init__\u001b[0;34m(self, name, **kwargs)\u001b[0m\n\u001b[1;32m     88\u001b[0m             \u001b[0mself\u001b[0m\u001b[0;34m.\u001b[0m\u001b[0m_lock\u001b[0m \u001b[0;34m=\u001b[0m \u001b[0mDummyLock\u001b[0m\u001b[0;34m(\u001b[0m\u001b[0;34m)\u001b[0m\u001b[0;34m\u001b[0m\u001b[0;34m\u001b[0m\u001b[0m\n\u001b[1;32m     89\u001b[0m         \u001b[0mself\u001b[0m\u001b[0;34m.\u001b[0m\u001b[0mclosed\u001b[0m \u001b[0;34m=\u001b[0m \u001b[0;32mTrue\u001b[0m\u001b[0;34m\u001b[0m\u001b[0;34m\u001b[0m\u001b[0m\n\u001b[0;32m---> 90\u001b[0;31m         \u001b[0mself\u001b[0m\u001b[0;34m.\u001b[0m\u001b[0m_open\u001b[0m\u001b[0;34m(\u001b[0m\u001b[0;34m**\u001b[0m\u001b[0mkwargs\u001b[0m\u001b[0;34m)\u001b[0m\u001b[0;34m\u001b[0m\u001b[0;34m\u001b[0m\u001b[0m\n\u001b[0m\u001b[1;32m     91\u001b[0m         \u001b[0mself\u001b[0m\u001b[0;34m.\u001b[0m\u001b[0mclosed\u001b[0m \u001b[0;34m=\u001b[0m \u001b[0;32mFalse\u001b[0m\u001b[0;34m\u001b[0m\u001b[0;34m\u001b[0m\u001b[0m\n\u001b[1;32m     92\u001b[0m \u001b[0;34m\u001b[0m\u001b[0m\n",
            "\u001b[0;32m/usr/local/lib/python3.10/dist-packages/mido/backends/rtmidi.py\u001b[0m in \u001b[0;36m_open\u001b[0;34m(self, client_name, virtual, api, callback, **kwargs)\u001b[0m\n\u001b[1;32m    196\u001b[0m \u001b[0;34m\u001b[0m\u001b[0m\n\u001b[1;32m    197\u001b[0m         \u001b[0mrtapi\u001b[0m \u001b[0;34m=\u001b[0m \u001b[0m_get_api_id\u001b[0m\u001b[0;34m(\u001b[0m\u001b[0mapi\u001b[0m\u001b[0;34m)\u001b[0m\u001b[0;34m\u001b[0m\u001b[0;34m\u001b[0m\u001b[0m\n\u001b[0;32m--> 198\u001b[0;31m         \u001b[0mself\u001b[0m\u001b[0;34m.\u001b[0m\u001b[0m_rt\u001b[0m \u001b[0;34m=\u001b[0m \u001b[0mrtmidi\u001b[0m\u001b[0;34m.\u001b[0m\u001b[0mMidiOut\u001b[0m\u001b[0;34m(\u001b[0m\u001b[0mname\u001b[0m\u001b[0;34m=\u001b[0m\u001b[0mclient_name\u001b[0m\u001b[0;34m,\u001b[0m \u001b[0mrtapi\u001b[0m\u001b[0;34m=\u001b[0m\u001b[0mrtapi\u001b[0m\u001b[0;34m)\u001b[0m\u001b[0;34m\u001b[0m\u001b[0;34m\u001b[0m\u001b[0m\n\u001b[0m\u001b[1;32m    199\u001b[0m \u001b[0;34m\u001b[0m\u001b[0m\n\u001b[1;32m    200\u001b[0m         \u001b[0mself\u001b[0m\u001b[0;34m.\u001b[0m\u001b[0mapi\u001b[0m \u001b[0;34m=\u001b[0m \u001b[0m_api_to_name\u001b[0m\u001b[0;34m[\u001b[0m\u001b[0mself\u001b[0m\u001b[0;34m.\u001b[0m\u001b[0m_rt\u001b[0m\u001b[0;34m.\u001b[0m\u001b[0mget_current_api\u001b[0m\u001b[0;34m(\u001b[0m\u001b[0;34m)\u001b[0m\u001b[0;34m]\u001b[0m\u001b[0;34m\u001b[0m\u001b[0;34m\u001b[0m\u001b[0m\n",
            "\u001b[0;32m_rtmidi.pyx\u001b[0m in \u001b[0;36m_rtmidi.MidiOut.__cinit__\u001b[0;34m()\u001b[0m\n",
            "\u001b[0;31mSystemError\u001b[0m: MidiOutAlsa::initialize: error creating ALSA sequencer client object."
          ]
        }
      ]
    }
  ]
}