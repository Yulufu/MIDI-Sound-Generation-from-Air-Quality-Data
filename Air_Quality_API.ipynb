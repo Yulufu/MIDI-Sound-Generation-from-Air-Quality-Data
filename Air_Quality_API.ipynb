{
  "cells": [
    {
      "cell_type": "code",
      "execution_count": 54,
      "metadata": {
        "colab": {
          "base_uri": "https://localhost:8080/"
        },
        "id": "EZi7DTVp2oWP",
        "outputId": "709e288a-3c77-4d52-d6a4-6b1b95391456"
      },
      "outputs": [
        {
          "name": "stdout",
          "output_type": "stream",
          "text": [
            "Requirement already satisfied: requests in c:\\users\\yuluf\\appdata\\local\\programs\\python\\python311\\lib\\site-packages (2.31.0)\n",
            "Requirement already satisfied: mido in c:\\users\\yuluf\\appdata\\local\\programs\\python\\python311\\lib\\site-packages (1.3.0)\n",
            "Requirement already satisfied: python-rtmidi in c:\\users\\yuluf\\appdata\\local\\programs\\python\\python311\\lib\\site-packages (1.5.6)\n",
            "Requirement already satisfied: charset-normalizer<4,>=2 in c:\\users\\yuluf\\appdata\\local\\programs\\python\\python311\\lib\\site-packages (from requests) (3.3.0)\n",
            "Requirement already satisfied: idna<4,>=2.5 in c:\\users\\yuluf\\appdata\\local\\programs\\python\\python311\\lib\\site-packages (from requests) (3.4)\n",
            "Requirement already satisfied: urllib3<3,>=1.21.1 in c:\\users\\yuluf\\appdata\\local\\programs\\python\\python311\\lib\\site-packages (from requests) (2.0.7)\n",
            "Requirement already satisfied: certifi>=2017.4.17 in c:\\users\\yuluf\\appdata\\local\\programs\\python\\python311\\lib\\site-packages (from requests) (2023.7.22)\n",
            "Requirement already satisfied: packaging~=23.1 in c:\\users\\yuluf\\appdata\\roaming\\python\\python311\\site-packages (from mido) (23.1)\n",
            "Note: you may need to restart the kernel to use updated packages.\n"
          ]
        },
        {
          "name": "stderr",
          "output_type": "stream",
          "text": [
            "\n",
            "[notice] A new release of pip available: 22.3.1 -> 23.3.1\n",
            "[notice] To update, run: python.exe -m pip install --upgrade pip\n"
          ]
        }
      ],
      "source": [
        "%pip install requests mido python-rtmidi"
      ]
    },
    {
      "cell_type": "code",
      "execution_count": 55,
      "metadata": {
        "colab": {
          "base_uri": "https://localhost:8080/"
        },
        "id": "51FSb1ho4InS",
        "outputId": "7f795b86-bd63-420d-cd2c-aaea80c7203a"
      },
      "outputs": [
        {
          "name": "stdout",
          "output_type": "stream",
          "text": [
            "{'status': 'ok', 'data': {'aqi': 24, 'idx': 3307, 'attributions': [{'url': 'http://www.dec.ny.gov/', 'name': 'New York State Department of Environmental Conservation (NYSDEC)', 'logo': 'US-NYDEC.png'}, {'url': 'http://www.airnow.gov/', 'name': 'Air Now - US EPA'}, {'url': 'https://waqi.info/', 'name': 'World Air Quality Index Project'}], 'city': {'geo': [40.7143528, -74.0059731], 'name': 'New York, USA', 'url': 'https://aqicn.org/city/usa/newyork', 'location': ''}, 'dominentpol': 'o3', 'iaqi': {'co': {'v': 2.3}, 'h': {'v': 45.9}, 'no2': {'v': 3.8}, 'o3': {'v': 24.1}, 'p': {'v': 1005}, 'pm25': {'v': 20}, 't': {'v': 15.1}, 'w': {'v': 9.2}}, 'time': {'s': '2023-10-22 13:00:00', 'tz': '-04:00', 'v': 1697979600, 'iso': '2023-10-22T13:00:00-04:00'}, 'forecast': {'daily': {'o3': [{'avg': 15, 'day': '2023-10-20', 'max': 18, 'min': 10}, {'avg': 4, 'day': '2023-10-21', 'max': 11, 'min': 1}, {'avg': 10, 'day': '2023-10-22', 'max': 16, 'min': 6}, {'avg': 7, 'day': '2023-10-23', 'max': 15, 'min': 1}, {'avg': 7, 'day': '2023-10-24', 'max': 20, 'min': 1}, {'avg': 12, 'day': '2023-10-25', 'max': 23, 'min': 8}, {'avg': 6, 'day': '2023-10-26', 'max': 16, 'min': 2}], 'pm10': [{'avg': 7, 'day': '2023-10-20', 'max': 11, 'min': 4}, {'avg': 10, 'day': '2023-10-21', 'max': 25, 'min': 2}, {'avg': 3, 'day': '2023-10-22', 'max': 4, 'min': 2}, {'avg': 21, 'day': '2023-10-23', 'max': 68, 'min': 2}, {'avg': 40, 'day': '2023-10-24', 'max': 72, 'min': 15}, {'avg': 16, 'day': '2023-10-25', 'max': 21, 'min': 10}, {'avg': 22, 'day': '2023-10-26', 'max': 30, 'min': 13}], 'pm25': [{'avg': 19, 'day': '2023-10-20', 'max': 38, 'min': 10}, {'avg': 28, 'day': '2023-10-21', 'max': 71, 'min': 5}, {'avg': 6, 'day': '2023-10-22', 'max': 7, 'min': 3}, {'avg': 44, 'day': '2023-10-23', 'max': 151, 'min': 3}, {'avg': 96, 'day': '2023-10-24', 'max': 154, 'min': 50}, {'avg': 48, 'day': '2023-10-25', 'max': 65, 'min': 32}, {'avg': 62, 'day': '2023-10-26', 'max': 77, 'min': 38}], 'uvi': [{'avg': 0, 'day': '2020-03-10', 'max': 2, 'min': 0}, {'avg': 1, 'day': '2020-03-11', 'max': 3, 'min': 0}, {'avg': 0, 'day': '2020-03-12', 'max': 2, 'min': 0}, {'avg': 0, 'day': '2020-03-13', 'max': 3, 'min': 0}, {'avg': 1, 'day': '2020-03-14', 'max': 5, 'min': 0}, {'avg': 1, 'day': '2020-03-15', 'max': 5, 'min': 0}, {'avg': 1, 'day': '2020-03-16', 'max': 4, 'min': 0}]}}, 'debug': {'sync': '2023-10-23T04:00:33+09:00'}}}\n"
          ]
        }
      ],
      "source": [
        "import requests\n",
        "\n",
        "def fetch_air_quality_data(latitude, longitude, api_token):\n",
        "    # Prepare the endpoint and parameters\n",
        "    endpoint = f\"https://api.waqi.info/feed/geo:{latitude};{longitude}/\"\n",
        "    params = {\n",
        "        \"token\": api_token\n",
        "    }\n",
        "\n",
        "    # Make the request\n",
        "    response = requests.get(endpoint, params=params)\n",
        "\n",
        "    # Check if the request was successful\n",
        "    if response.status_code == 200:\n",
        "        data = response.json()\n",
        "        return data\n",
        "    else:\n",
        "        return None  # or handle errors as appropriate\n",
        "\n",
        "# Replace with your actual values\n",
        "api_token = \"42ed33d5b7c9a020591a73b08b51a8a0d299ed6d\"\n",
        "latitude = 40.729513\n",
        "longitude = -73.997460 #NYU Steinhardt location\n",
        "\n",
        "# Fetch and print data\n",
        "air_quality_data = fetch_air_quality_data(latitude, longitude, api_token)\n",
        "print(air_quality_data)\n"
      ]
    },
    {
      "cell_type": "code",
      "execution_count": 63,
      "metadata": {
        "colab": {
          "base_uri": "https://localhost:8080/"
        },
        "id": "oW8Bq5LgWTpL",
        "outputId": "9f1d9ee1-02f5-4533-ea4e-61cc64849a9d"
      },
      "outputs": [
        {
          "name": "stdout",
          "output_type": "stream",
          "text": [
            "{'aqi': 24, 'pm25': 20, 'pm10': None, 'co': 2.3, 'no2': 3.8, 'o3': 24.1}\n"
          ]
        }
      ],
      "source": [
        "def parse_air_quality_data(data):\n",
        "    if data and data.get('status') == 'ok':\n",
        "        # Extracting the air quality index (AQI)\n",
        "        aqi = data['data']['aqi']\n",
        "\n",
        "        # Extracting individual pollutant data\n",
        "        iaqi = data['data']['iaqi']\n",
        "\n",
        "        #access individual pollutants depending on availability\n",
        "        pm25 = iaqi.get('pm25', {}).get('v')  # PM2.5 data\n",
        "        pm10 = iaqi.get('pm10', {}).get('v')  # PM10 data\n",
        "        co = iaqi.get('co', {}).get('v')  # Carbon Monoxide data\n",
        "        no2 = iaqi.get('no2', {}).get('v')  # Nitrogen Dioxide data\n",
        "        o3 = iaqi.get('o3', {}).get('v')  # Ozone data\n",
        "\n",
        "\n",
        "        # Returning a dictionary with the parsed data\n",
        "        return {\n",
        "            'aqi': aqi,\n",
        "            'pm25': pm25,\n",
        "            'pm10': pm10,\n",
        "            'co': co,\n",
        "            'no2': no2,\n",
        "            'o3': o3\n",
        "            # Add more pollutants here\n",
        "        }\n",
        "    else:\n",
        "        print(\"Error: Unable to retrieve or parse data\")\n",
        "        return None\n",
        "\n",
        "# Assuming air_quality_data contains the response from the API\n",
        "parsed_data = parse_air_quality_data(air_quality_data)\n",
        "print(parsed_data)\n"
      ]
    },
    {
      "cell_type": "code",
      "execution_count": 62,
      "metadata": {},
      "outputs": [
        {
          "name": "stdout",
          "output_type": "stream",
          "text": [
            "3 5 3 8\n"
          ]
        }
      ],
      "source": [
        "print(pm25_midi, co_midi, no2_midi, o3_midi)"
      ]
    },
    {
      "cell_type": "code",
      "execution_count": 58,
      "metadata": {
        "id": "vwg_XNzWYnI7"
      },
      "outputs": [],
      "source": [
        "import mido\n",
        "import time\n",
        "\n",
        "# Function to normalize data\n",
        "def normalize_data(value, min_value, max_value, min_midi, max_midi):\n",
        "    return ((value - min_value) / (max_value - min_value)) * (max_midi - min_midi) + min_midi"
      ]
    },
    {
      "cell_type": "code",
      "execution_count": 59,
      "metadata": {},
      "outputs": [
        {
          "name": "stdout",
          "output_type": "stream",
          "text": [
            "['Microsoft GS Wavetable Synth 0', 'MyVirtualMIDI 1', 'MyVirtualMIDI 1 2']\n"
          ]
        }
      ],
      "source": [
        "import mido\n",
        "\n",
        "# List all available MIDI output ports\n",
        "print(mido.get_output_names())"
      ]
    },
    {
      "cell_type": "code",
      "execution_count": 5,
      "metadata": {
        "id": "bHldPW-aYtyB"
      },
      "outputs": [],
      "source": [
        "# Function to send MIDI messages\n",
        "def send_midi_control_change(control, value, midi_port):\n",
        "    # control is the control number (e.g., 1 for modulation wheel, 7 for volume, etc.)\n",
        "    # value is the control value (0-127)\n",
        "    msg = mido.Message('control_change', control=control, value=value)\n",
        "    midi_port.send(msg)\n"
      ]
    },
    {
      "cell_type": "code",
      "execution_count": 120,
      "metadata": {},
      "outputs": [
        {
          "name": "stdout",
          "output_type": "stream",
          "text": [
            "MIDI messages sent.\n"
          ]
        }
      ],
      "source": [
        "# Testing\n",
        "import mido\n",
        "import time\n",
        "\n",
        "# Open the MIDI port\n",
        "outport = mido.open_output('MyVirtualMIDI 1')\n",
        "\n",
        "# Send a note on message\n",
        "note_on = mido.Message('note_on', note=60, velocity=64)\n",
        "outport.send(note_on)\n",
        "\n",
        "# Wait for a second\n",
        "time.sleep(1)\n",
        "\n",
        "# Send a note off message\n",
        "note_off = mido.Message('note_off', note=60, velocity=64)\n",
        "outport.send(note_off)\n",
        "\n",
        "# Close the MIDI port\n",
        "outport.close()\n",
        "\n",
        "print(\"MIDI messages sent.\")\n"
      ]
    },
    {
      "cell_type": "code",
      "execution_count": 121,
      "metadata": {},
      "outputs": [
        {
          "name": "stdout",
          "output_type": "stream",
          "text": [
            "MIDI messages sent.\n"
          ]
        }
      ],
      "source": [
        "import mido\n",
        "import time\n",
        "\n",
        "# Function to map PM2.5 level to a MIDI note\n",
        "def pm25_to_midi(pm25_level):\n",
        "    # Ensure pm25_level is within the expected range\n",
        "    pm25_level = max(min(pm25_level, 500), 0)\n",
        "    # Invert the mapping: higher PM2.5 levels should produce higher notes\n",
        "    midi_note = 108 - int((pm25_level / 500) * (108 - 21))\n",
        "    midi_note = max(min(midi_note, 108), 21)  # Ensure midi_note is in the range 21-108\n",
        "    return midi_note\n",
        "\n",
        "# Function to map PM2.5 level to a MIDI velocity\n",
        "def pm25_to_midi(pm25_level):\n",
        "    # Ensure pm25_level is within the expected range\n",
        "    pm25_level = max(min(pm25_level, 500), 0)\n",
        "\n",
        "    # Define the range of MIDI notes you want to use\n",
        "    lowest_note = 40  # This is E2 on a piano\n",
        "    highest_note = 88  # This is E6 on a piano\n",
        "\n",
        "    # Map the PM2.5 level to a MIDI note within your defined range\n",
        "    midi_note = int((pm25_level / 500) * (highest_note - lowest_note) + lowest_note)\n",
        "\n",
        "    # Ensure midi_note is within your defined range\n",
        "    midi_note = max(min(midi_note, highest_note), lowest_note)\n",
        "\n",
        "    return midi_note\n",
        "\n",
        "\n",
        "# Create a virtual MIDI port\n",
        "with mido.open_output('MyVirtualMIDI 1') as outport:\n",
        "    # Assuming air_quality_data contains the response from the API\n",
        "    parsed_data = parse_air_quality_data(air_quality_data)\n",
        "\n",
        "    # Get the PM2.5 level, if available\n",
        "    pm25_level = parsed_data.get('pm25', 0)  # Default to 0 if 'pm25' is not available\n",
        "\n",
        "    # Convert the PM2.5 level to a MIDI note\n",
        "    note = pm25_to_midi(pm25_level)\n",
        "\n",
        "    # Convert the PM2.5 level to a MIDI velocity\n",
        "    velocity = pm25_to_velocity(pm25_level)\n",
        "\n",
        "    # Send a \"note on\" message to play the note\n",
        "    note_on = mido.Message('note_on', note=note, velocity=velocity)\n",
        "    outport.send(note_on)\n",
        "\n",
        "    # Wait for a bit to let the note play\n",
        "    time.sleep(1)\n",
        "\n",
        "    # Send a \"note off\" message to stop the note\n",
        "    note_off = mido.Message('note_off', note=note, velocity=velocity)\n",
        "    outport.send(note_off)\n",
        "\n",
        "    # Sleep for a bit to ensure messages are sent before closing the port\n",
        "    time.sleep(0.1)\n",
        "\n",
        "print(\"MIDI messages sent.\")\n"
      ]
    },
    {
      "cell_type": "code",
      "execution_count": 124,
      "metadata": {},
      "outputs": [
        {
          "name": "stdout",
          "output_type": "stream",
          "text": [
            "MIDI messages sent.\n"
          ]
        }
      ],
      "source": [
        "import mido\n",
        "import time\n",
        "import random  # for randomizing parameters\n",
        "\n",
        "# Function to map PM2.5 level to a MIDI note\n",
        "def pm25_to_midi(pm25_level):\n",
        "    # Ensure pm25_level is within the expected range\n",
        "    pm25_level = max(min(pm25_level, 500), 0)\n",
        "    # Invert the mapping: higher PM2.5 levels should produce higher notes\n",
        "    midi_note = 108 - int((pm25_level / 500) * (108 - 21))\n",
        "    midi_note = max(min(midi_note, 108), 21)  # Ensure midi_note is in the range 21-108\n",
        "    return midi_note\n",
        "\n",
        "# New function to map PM2.5 level to a MIDI velocity\n",
        "def pm25_to_velocity(pm25_level):\n",
        "    # Ensure pm25_level is within the expected range\n",
        "    pm25_level = max(min(pm25_level, 500), 0)\n",
        "    # Map the PM2.5 level to a MIDI velocity\n",
        "    midi_velocity = int((pm25_level / 500) * 127)\n",
        "    return midi_velocity\n",
        "\n",
        "# Create a virtual MIDI port\n",
        "with mido.open_output('MyVirtualMIDI 1') as outport:\n",
        "    # Assuming air_quality_data contains the response from the API\n",
        "    parsed_data = parse_air_quality_data(air_quality_data)\n",
        "\n",
        "    # Get the PM2.5 level, if available\n",
        "    pm25_level = parsed_data.get('pm25', 0)  # Default to 0 if 'pm25' is not available\n",
        "\n",
        "    # Convert the PM2.5 level to a MIDI note\n",
        "    note = pm25_to_midi(pm25_level)\n",
        "\n",
        "    # Convert the PM2.5 level to a MIDI velocity\n",
        "    velocity = pm25_to_velocity(pm25_level)\n",
        "\n",
        "    for _ in range(5):  # Play 5 notes\n",
        "        # Randomize some other parameter, for example, the instrument\n",
        "        instrument = random.choice(range(1, 128))  # MIDI instruments are numbered 1-128\n",
        "        outport.send(mido.Message('program_change', program=instrument))\n",
        "\n",
        "        # Randomize pitch bend\n",
        "        pitch_bend = random.choice(range(-8192, 8191))\n",
        "        outport.send(mido.Message('pitchwheel', pitch=pitch_bend))\n",
        "\n",
        "        # Send a \"note on\" message to play the note\n",
        "        note_on = mido.Message('note_on', note=note, velocity=velocity)\n",
        "        outport.send(note_on)\n",
        "\n",
        "        # Wait for a bit to let the note play\n",
        "        time.sleep(1)\n",
        "\n",
        "        # Send a \"note off\" message to stop the note\n",
        "        note_off = mido.Message('note_off', note=note, velocity=velocity)\n",
        "        outport.send(note_off)\n",
        "\n",
        "        # Sleep for a bit to ensure messages are sent before closing the port\n",
        "        time.sleep(0.1)\n",
        "\n",
        "print(\"MIDI messages sent.\")\n"
      ]
    }
  ],
  "metadata": {
    "colab": {
      "provenance": []
    },
    "kernelspec": {
      "display_name": "Python 3",
      "language": "python",
      "name": "python3"
    },
    "language_info": {
      "codemirror_mode": {
        "name": "ipython",
        "version": 3
      },
      "file_extension": ".py",
      "mimetype": "text/x-python",
      "name": "python",
      "nbconvert_exporter": "python",
      "pygments_lexer": "ipython3",
      "version": "3.11.3"
    },
    "vscode": {
      "interpreter": {
        "hash": "8924d46c7fa51094e0d495118248a9d93c5292baab499a2591c5a0bd0e75318e"
      }
    }
  },
  "nbformat": 4,
  "nbformat_minor": 0
}
